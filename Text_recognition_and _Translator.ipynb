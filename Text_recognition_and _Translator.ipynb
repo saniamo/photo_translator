{
 "cells": [
  {
   "cell_type": "code",
   "execution_count": 1,
   "metadata": {},
   "outputs": [],
   "source": [
    "# Imports\n",
    "\n",
    "import pytesseract \n",
    "\n",
    "\n",
    "from PIL import Image \n",
    "from googletrans import Translator"
   ]
  },
  {
   "cell_type": "code",
   "execution_count": 2,
   "metadata": {},
   "outputs": [],
   "source": [
    "# Define the Photo\n",
    "\n",
    "img = Image.open('img_.jpeg')\n"
   ]
  },
  {
   "cell_type": "code",
   "execution_count": 3,
   "metadata": {},
   "outputs": [],
   "source": [
    "# Text Recognition\n",
    "\n",
    "txt = pytesseract.image_to_string(img)\n"
   ]
  },
  {
   "cell_type": "code",
   "execution_count": 4,
   "metadata": {},
   "outputs": [
    {
     "name": "stdout",
     "output_type": "stream",
     "text": [
      "never a root\n",
      "without a tree\n",
      "never a tree\n",
      "without a bird\n",
      "never a bird\n",
      "without a song\n",
      "never a song\n",
      "without a sky\n",
      "\n",
      "never a sky\n",
      "without a song\n",
      "never a song\n",
      "without a bird\n",
      "never a bird\n",
      "without a tree\n",
      "never a tree\n",
      "without a root\n",
      "\n",
      "never a root\n",
      "without a tree\n",
      "\f",
      "\n"
     ]
    }
   ],
   "source": [
    "print(txt)\n"
   ]
  },
  {
   "cell_type": "code",
   "execution_count": 6,
   "metadata": {},
   "outputs": [],
   "source": [
    "# Google Translator\n",
    "\n",
    "p = Translator() \n",
    "p_translated = p.translate(txt, dest='swahili') \n",
    "translated = str(p_translated.text)"
   ]
  },
  {
   "cell_type": "code",
   "execution_count": 7,
   "metadata": {},
   "outputs": [
    {
     "name": "stdout",
     "output_type": "stream",
     "text": [
      "Translated(src=en, dest=sw, text=kamwe mzizi\n",
      "bila mti\n",
      "kamwe mti\n",
      "bila ndege\n",
      "kamwe ndege\n",
      "bila wimbo\n",
      "kamwe wimbo\n",
      "bila anga\n",
      "\n",
      "kamwe anga\n",
      "bila wimbo\n",
      "kamwe wimbo\n",
      "bila ndege\n",
      "kamwe ndege\n",
      "bila mti\n",
      "kamwe mti\n",
      "bila mzizi\n",
      "\n",
      "kamwe mzizi\n",
      "bila mti, pronunciation=[[]], extra_data=\"{'translat...\")\n"
     ]
    }
   ],
   "source": [
    "print(p_translated)"
   ]
  },
  {
   "cell_type": "code",
   "execution_count": 9,
   "metadata": {},
   "outputs": [
    {
     "name": "stdout",
     "output_type": "stream",
     "text": [
      "never a root\n",
      "without a tree\n",
      "never a tree\n",
      "without a bird\n",
      "never a bird\n",
      "without a song\n",
      "never a song\n",
      "without a sky\n",
      "\n",
      "never a sky\n",
      "without a song\n",
      "never a song\n",
      "without a bird\n",
      "never a bird\n",
      "without a tree\n",
      "never a tree\n",
      "without a root\n",
      "\n",
      "never a root\n",
      "without a tree\n",
      "\f",
      "\n",
      "\n",
      "\n",
      "kamwe mzizi\n",
      "bila mti\n",
      "kamwe mti\n",
      "bila ndege\n",
      "kamwe ndege\n",
      "bila wimbo\n",
      "kamwe wimbo\n",
      "bila anga\n",
      "\n",
      "kamwe anga\n",
      "bila wimbo\n",
      "kamwe wimbo\n",
      "bila ndege\n",
      "kamwe ndege\n",
      "bila mti\n",
      "kamwe mti\n",
      "bila mzizi\n",
      "\n",
      "kamwe mzizi\n",
      "bila mti\n"
     ]
    }
   ],
   "source": [
    "print (txt + \"\\n\\n\\n\" + translated)"
   ]
  },
  {
   "cell_type": "code",
   "execution_count": 11,
   "metadata": {},
   "outputs": [
    {
     "name": "stdout",
     "output_type": "stream",
     "text": [
      "ready!\n"
     ]
    }
   ],
   "source": [
    "with open('translated_poem_fr.txt', mode ='w') as file: \n",
    "   file.write(txt + \"\\n\\n\\n\" + translated) \n",
    "   print(\"ready!\")"
   ]
  },
  {
   "cell_type": "code",
   "execution_count": null,
   "metadata": {},
   "outputs": [],
   "source": []
  }
 ],
 "metadata": {
  "kernelspec": {
   "display_name": "Python 3",
   "language": "python",
   "name": "python3"
  },
  "language_info": {
   "codemirror_mode": {
    "name": "ipython",
    "version": 3
   },
   "file_extension": ".py",
   "mimetype": "text/x-python",
   "name": "python",
   "nbconvert_exporter": "python",
   "pygments_lexer": "ipython3",
   "version": "3.8.5"
  }
 },
 "nbformat": 4,
 "nbformat_minor": 4
}
